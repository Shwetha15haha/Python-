{
 "cells": [
  {
   "attachments": {},
   "cell_type": "markdown",
   "metadata": {},
   "source": [
    "##\n",
    "PRINT\n",
    "FUNCTION\n"
   ]
  },
  {
   "cell_type": "code",
   "execution_count": 25,
   "metadata": {},
   "outputs": [
    {
     "name": "stdout",
     "output_type": "stream",
     "text": [
      "Hello world\n",
      "5\n",
      "15\n",
      "filename\n",
      "Shwetha Moghe\n",
      "3 4\n",
      "Hello World\n",
      "48\n",
      "4 9\n",
      "(3, 4, 5, 6)\n",
      "(3, 4, 5, 6, 3, 4, 5, 6)\n",
      "[1, 2] \n",
      "[3,4]\n",
      "[1,2]\n",
      "[1, 2, 3, 4]\n",
      "[1,2,3,4]\n",
      "(3,4,5,6)\n"
     ]
    }
   ],
   "source": [
    "print(\"Hello world\")\n",
    "print(5)\n",
    "print(7+8)\n",
    "print(\"file\"+\"name\")\n",
    "print(\"Shwetha \"+\"Moghe\")\n",
    "print(3,4)\n",
    "print(\"Hello\",\"World\")\n",
    "print(\"4\"+\"8\")\n",
    "print(4,\"9\")\n",
    "print((3,4,5,6))\n",
    "print((3,4,5,6)+(3,4,5,6))\n",
    "print([1,2],'\\n[3,4]')\n",
    "print('[1,2]')\n",
    "print([1,2,3,4])\n",
    "print('[1,2,3,4]')\n",
    "print('(3,4,5,6)')"
   ]
  },
  {
   "cell_type": "code",
   "execution_count": null,
   "metadata": {},
   "outputs": [],
   "source": []
  },
  {
   "cell_type": "code",
   "execution_count": null,
   "metadata": {},
   "outputs": [],
   "source": []
  }
 ],
 "metadata": {
  "kernelspec": {
   "display_name": "Python 3",
   "language": "python",
   "name": "python3"
  },
  "language_info": {
   "codemirror_mode": {
    "name": "ipython",
    "version": 3
   },
   "file_extension": ".py",
   "mimetype": "text/x-python",
   "name": "python",
   "nbconvert_exporter": "python",
   "pygments_lexer": "ipython3",
   "version": "3.10.1"
  },
  "orig_nbformat": 4,
  "vscode": {
   "interpreter": {
    "hash": "fbc768028c3e6ead51d9a200ddcb2ec858ae62844dcd1994729a8279be9b48f2"
   }
  }
 },
 "nbformat": 4,
 "nbformat_minor": 2
}
